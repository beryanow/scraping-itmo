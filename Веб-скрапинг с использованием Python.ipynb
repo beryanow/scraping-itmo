{
  "nbformat": 4,
  "nbformat_minor": 0,
  "metadata": {
    "colab": {
      "name": "Веб-скрапинг с использованием Python.ipynb\"",
      "provenance": [],
      "collapsed_sections": []
    },
    "kernelspec": {
      "name": "python3",
      "display_name": "Python 3"
    },
    "language_info": {
      "name": "python"
    }
  },
  "cells": [
    {
      "cell_type": "code",
      "metadata": {
        "id": "MU_u0mesWS7h"
      },
      "source": [
        "!pip install requests\n",
        "\n",
        "!pip install beautifulsoup4\n",
        "\n",
        "!pip install scrapy"
      ],
      "execution_count": null,
      "outputs": []
    },
    {
      "cell_type": "code",
      "metadata": {
        "colab": {
          "base_uri": "https://localhost:8080/"
        },
        "id": "eZY3yFqbiEBE",
        "outputId": "83ec447a-3563-49f9-ea82-2f5693f20893"
      },
      "source": [
        "from urllib.request import urlopen\n",
        "from bs4 import BeautifulSoup\n",
        "\n",
        "habrHtml = urlopen('https://habr.com/ru/search/?q=spring%20boot&target_type=posts&order=relevance')\n",
        "habrHtmlBeautifulSoaped = BeautifulSoup(habrHtml, \"html.parser\")\n",
        "\n",
        "relevantSpringBootTopics = habrHtmlBeautifulSoaped.findAll('h2')\n",
        "\n",
        "for relevantSpringBootTopic in relevantSpringBootTopics:\n",
        "    print(relevantSpringBootTopic.get_text())"
      ],
      "execution_count": 67,
      "outputs": [
        {
          "output_type": "stream",
          "name": "stdout",
          "text": [
            "Spring Boot 2: чего не пишут в release notes\n",
            "Spring Boot 2: что нового?\n",
            "Boot yourself, Spring is coming (Часть 1)\n",
            "Стартер для работы с Spring Cloud\n",
            "Введение в Spring Boot: создание простого REST API на Java\n",
            "Что нового в Spring Boot 2.2?\n",
            "Микросервисы со Spring Boot. Часть 2. Создание микросервиса Forex\n",
            "11 вопросов на собеседовании по Spring Boot, которые заставляют задуматься\n",
            "Spring без XML. Часть 1\n",
            "Spring Boot — OAuth2 и JWT\n",
            "Сервер авторизации (Authorization Server)\n",
            "Сервер ресурсов (Resource Server)\n",
            "Веб-приложение на Kotlin + Spring Boot + Vue.js\n",
            "Учебник по Spring Boot Admin\n",
            "Spring Boot vs Spring MVC vs Spring — Как они сравниваются?\n",
            "Spring Boot vs Spring MVC vs Spring — Как они сравниваются?\n",
            "Микросервисы со Spring Boot. Часть 3. Создание микросервиса конвертации валют\n",
            "Что такое Spring Framework? От внедрения зависимостей до Web MVC\n",
            "Подключение Keycloak к Spring Boot приложению\n",
            "Обратная сторона Spring\n",
            "Что такое Spring Cloud и как его готовить – интервью с Евгением Борисовым и Кириллом Толкачёвым\n",
            "Spring AOP. Маленький вопросик с собеседования\n",
            "Boot yourself, Spring is coming (Часть 2)\n"
          ]
        }
      ]
    },
    {
      "cell_type": "code",
      "metadata": {
        "id": "8Hu-6unkJ9dK"
      },
      "source": [
        "import re\n",
        "from urllib.request import urlopen\n",
        "from bs4 import BeautifulSoup\n",
        "\n",
        "def csv_writer(data, path):\n",
        "    with open(path, \"w\", newline='') as csv_file:\n",
        "        writer = csv.writer(csv_file, delimiter=',')\n",
        "        for line in data:\n",
        "            writer.writerow(line)\n",
        "\n",
        "habrHtml = urlopen('https://habr.com/ru/search/?q=spring%20boot&target_type=posts&order=relevance')\n",
        "habrHtmlBeautifulSoaped = BeautifulSoup(habrHtml, \"html.parser\")\n",
        "\n",
        "relevantSpringBootTopics = habrHtmlBeautifulSoaped.findAll('h2', {'class' : 'tm-article-snippet__title tm-article-snippet__title_h2'})\n",
        "relevantSpringBootTopicsAuthors = habrHtmlBeautifulSoaped.findAll('span', {'class' : 'tm-user-info__user'})\n",
        "relevantSpringBootTopicsTime = habrHtmlBeautifulSoaped.findAll('time')\n",
        "relevantSpringBootTopicsWatches = habrHtmlBeautifulSoaped.findAll('span', {'class' : 'tm-icon-counter__value'})\n",
        "relevantSpringBootTopicsRating = habrHtmlBeautifulSoaped.findAll('span', {'class' : 'tm-votes-meter__value'})\n",
        "\n",
        "topicsCount = len(relevantSpringBootTopicsAuthors)\n",
        "\n",
        "csvData = [['Тема', 'Автор', 'Время', 'Просмотры', 'Рейтинг']]\n",
        "\n",
        "for topicIndex in range(topicsCount):\n",
        "    csvData.append([relevantSpringBootTopics[topicIndex].get_text(), re.sub(\"^\\s+|\\n|\\r|\\s+$\", '', relevantSpringBootTopicsAuthors[topicIndex].get_text()), relevantSpringBootTopicsTime[topicIndex].get_text(), relevantSpringBootTopicsWatches[topicIndex].get_text(), relevantSpringBootTopicsRating[topicIndex].get_text()])\n",
        "\n",
        "path = \"springBootTopics.csv\"\n",
        "\n",
        "csv_writer(csvData, path)"
      ],
      "execution_count": 86,
      "outputs": []
    }
  ]
}